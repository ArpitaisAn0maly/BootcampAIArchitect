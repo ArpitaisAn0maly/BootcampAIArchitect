{
 "cells": [
  {
   "cell_type": "markdown",
   "metadata": {},
   "source": [
    "# Introduction to Prompt Engineering\n",
    "Prompt engineering is the process of designing and optimizing prompts for natural language processing tasks. It involves selecting the right prompts, tuning their parameters, and evaluating their performance. Prompt engineering is crucial for achieving high accuracy and efficiency in NLP models. "
   ]
  },
  {
   "cell_type": "code",
   "execution_count": 11,
   "metadata": {},
   "outputs": [
    {
     "name": "stdout",
     "output_type": "stream",
     "text": [
      "gpt4mini\n",
      "https://aoai-aparmar-1.openai.azure.com/\n"
     ]
    }
   ],
   "source": [
    "from dotenv import load_dotenv\n",
    "import os\n",
    "from openai import AzureOpenAI\n",
    "\n",
    "load_dotenv(dotenv_path=r'C:\\Users\\arpitaparmar\\OneDrive - Microsoft\\Documents\\bootcamp\\Session1\\local.env',override=True) # take environment variables from .env.\n",
    "\n",
    "client = AzureOpenAI(\n",
    "  azure_endpoint = os.getenv(\"GPT4_AZURE_OPENAI_ENDPOINT\"), \n",
    "  api_key=os.getenv(\"GPT4_AZURE_OPENAI_KEY\"),  \n",
    "   api_version=\"2024-05-01-preview\"\n",
    ")\n",
    "\n",
    "deployment = os.getenv('GPT4_DEPLOYMENT_NAME') # model = \"deployment_name\"\n",
    "azureendpoint=os.getenv('GPT4_AZURE_OPENAI_ENDPOINT')\n",
    "\n",
    "\n",
    "print(deployment)\n",
    "print(azureendpoint)\n"
   ]
  },
  {
   "cell_type": "markdown",
   "metadata": {},
   "source": [
    "### Basic prompting"
   ]
  },
  {
   "cell_type": "code",
   "execution_count": 13,
   "metadata": {},
   "outputs": [
    {
     "name": "stdout",
     "output_type": "stream",
     "text": [
      "It looks like you're quoting the beginning of \"The Star-Spangled Banner,\" the national anthem of the United States. Would you like to know more about its history or significance?\n"
     ]
    }
   ],
   "source": [
    "\n",
    "def get_completion(prompt):\n",
    "    messages = [{\"role\": \"user\", \"content\": prompt}]       \n",
    "    response = client.chat.completions.create(   \n",
    "        model=deployment,                                         \n",
    "        messages=messages,\n",
    "        temperature=0, # this is the degree of randomness of the model's output\n",
    "        max_tokens=1024\n",
    "    )\n",
    "    return response.choices[0].message.content\n",
    "\n",
    "\n",
    "### 1. Set primary content or prompt text\n",
    "text = f\"\"\"\n",
    "oh say can you see\n",
    "\"\"\"\n",
    "\n",
    "### 2. Use that in the prompt template below\n",
    "prompt = f\"\"\"\n",
    "```{text}```\n",
    "\"\"\"\n",
    "\n",
    "## 3. Run the prompt\n",
    "response = get_completion(prompt)\n",
    "print(response)"
   ]
  },
  {
   "cell_type": "markdown",
   "metadata": {},
   "source": [
    "###  Fabrications\n",
    "Explore what happens when you ask the LLM to return completions for a prompt about a topic that may not exist, or about topics that it may not know about because it was outside it's pre-trained dataset (more recent). See how the response changes if you try a different prompt, or a different model."
   ]
  },
  {
   "cell_type": "code",
   "execution_count": 14,
   "metadata": {},
   "outputs": [
    {
     "name": "stdout",
     "output_type": "stream",
     "text": [
      "### Lesson Plan: The Martian War of 2076\n",
      "\n",
      "**Grade Level:** 9-12  \n",
      "**Subject:** History / Social Studies / Science Fiction Studies  \n",
      "**Duration:** 2-3 class periods (90-120 minutes each)\n",
      "\n",
      "---\n",
      "\n",
      "#### **Lesson Objectives:**\n",
      "1. Students will understand the historical context and events leading up to the Martian War of 2076.\n",
      "2. Students will analyze the causes and consequences of the war.\n",
      "3. Students will explore the technological advancements and societal changes that occurred as a result of the war.\n",
      "4. Students will engage in critical thinking and discussion about the implications of interplanetary conflict.\n",
      "\n",
      "---\n",
      "\n",
      "#### **Materials Needed:**\n",
      "- Textbook or articles on the Martian War of 2076\n",
      "- Documentaries or video clips about the war\n",
      "- Access to computers/tablets for research\n",
      "- Whiteboard and markers\n",
      "- Projector for presentations\n",
      "- Handouts with key terms and discussion questions\n",
      "\n",
      "---\n",
      "\n",
      "#### **Lesson Outline:**\n",
      "\n",
      "**Day 1: Introduction to the Martian War of 2076**\n",
      "\n",
      "1. **Warm-Up Activity (15 minutes):**\n",
      "   - Begin with a brainstorming session. Ask students what they know about Mars, space exploration, and potential conflicts in space. Write their ideas on the board.\n",
      "\n",
      "2. **Lecture/Presentation (30 minutes):**\n",
      "   - Provide a brief overview of the history of Mars exploration leading up to 2076, including key events such as the establishment of colonies, resource exploitation, and the rise of Martian independence movements.\n",
      "   - Discuss the geopolitical tensions on Earth that contributed to the war.\n",
      "\n",
      "3. **Group Activity (30 minutes):**\n",
      "   - Divide students into small groups and assign each group a specific event or aspect of the war (e.g., the Martian Declaration of Independence, key battles, technological advancements, international responses).\n",
      "   - Each group will research their topic and prepare a short presentation for the class.\n",
      "\n",
      "4. **Homework Assignment:**\n",
      "   - Students will write a one-page reflection on what they believe were the main causes of the Martian War of 2076, using at least two sources from class materials.\n",
      "\n",
      "---\n",
      "\n",
      "**Day 2: Analyzing the War**\n",
      "\n",
      "1. **Group Presentations (30 minutes):**\n",
      "   - Each group presents their findings to the class. Encourage questions and discussions after each presentation.\n",
      "\n",
      "2. **Class Discussion (30 minutes):**\n",
      "   - Facilitate a discussion on the implications of the war. Questions to consider:\n",
      "     - How did the war change the relationship between Earth and Mars?\n",
      "     - What were the social and economic impacts on both planets?\n",
      "     - How did technology play a role in the conflict?\n",
      "\n",
      "3. **Documentary Viewing (30 minutes):**\n",
      "   - Show a documentary or video clip that highlights key moments of the Martian War. Follow up with a discussion on the portrayal of the war in media.\n",
      "\n",
      "4. **Homework Assignment:**\n",
      "   - Students will write a short essay (2-3 pages) analyzing the consequences of the Martian War of 2076, focusing on one of the following themes: technological advancements, societal changes, or international relations.\n",
      "\n",
      "---\n",
      "\n",
      "**Day 3: Reflection and Future Implications**\n",
      "\n",
      "1. **Peer Review (30 minutes):**\n",
      "   - Students will exchange essays with a partner for peer review. Provide a rubric for constructive feedback.\n",
      "\n",
      "2. **Class Debate (30 minutes):**\n",
      "   - Organize a debate on the topic: \"Should humanity pursue colonization of other planets despite the risks of conflict?\" Divide the class into pro and con teams.\n",
      "\n",
      "3. **Conclusion and Reflection (30 minutes):**\n",
      "   - Wrap up the lesson by discussing what students learned about the Martian War and its relevance to current discussions about space exploration and international relations.\n",
      "   - Ask students to reflect on how the lessons from the Martian War could apply to contemporary conflicts on Earth.\n",
      "\n",
      "---\n",
      "\n",
      "#### **Assessment:**\n",
      "- Participation in group activities and discussions\n",
      "- Quality of group presentations\n",
      "- Reflection paper on the causes of the war\n",
      "- Essay analyzing the consequences of the war\n",
      "- Engagement in the debate\n",
      "\n",
      "---\n",
      "\n",
      "#### **Extensions:**\n",
      "- Invite a guest speaker (e.g., a scientist or historian) to discuss the future of space exploration.\n",
      "- Organize a field trip to a local planetarium or science center with a focus on Mars exploration.\n",
      "- Encourage students to create a creative project (e.g., a short story, artwork, or video) that imagines a future scenario related to Mars and interplanetary relations.\n",
      "\n",
      "---\n",
      "\n",
      "This lesson plan aims to engage students in a multifaceted exploration of the Martian War of 2076, encouraging critical thinking and creativity while connecting historical events to contemporary issues.\n"
     ]
    }
   ],
   "source": [
    "\n",
    "## Set the text for simple prompt or primary content\n",
    "\n",
    "text = f\"\"\"\n",
    "generate a lesson plan on the Martian War of 2076.\n",
    "\"\"\"\n",
    "\n",
    "prompt = f\"\"\"\n",
    "```{text}```\n",
    "\"\"\"\n",
    "\n",
    "response = get_completion(prompt)\n",
    "print(response)"
   ]
  },
  {
   "cell_type": "markdown",
   "metadata": {},
   "source": [
    "### Instruction Based \n",
    "Use the \"text\" variable to set the primary content \n",
    "and the \"prompt\" variable to provide an instruction related to that primary content.\n",
    "\n",
    "Here we ask the model to summarize the text for a second-grade student"
   ]
  },
  {
   "cell_type": "code",
   "execution_count": 15,
   "metadata": {},
   "outputs": [
    {
     "name": "stdout",
     "output_type": "stream",
     "text": [
      "Jupiter is the fifth planet from the Sun and the biggest one in our Solar System. It's made mostly of gas and is really, really big—much bigger than all the other planets put together! You can see Jupiter shining brightly in the night sky, and it's been known for a very long time, even before people started writing things down. It’s named after a Roman god. Sometimes, it's so bright that it can even make shadows! Jupiter is usually the third brightest thing we can see at night, after the Moon and Venus.\n"
     ]
    }
   ],
   "source": [
    "\n",
    "text = f\"\"\"\n",
    "Jupiter is the fifth planet from the Sun and the \\\n",
    "largest in the Solar System. It is a gas giant with \\\n",
    "a mass one-thousandth that of the Sun, but two-and-a-half \\\n",
    "times that of all the other planets in the Solar System combined. \\\n",
    "Jupiter is one of the brightest objects visible to the naked eye \\\n",
    "in the night sky, and has been known to ancient civilizations since \\\n",
    "before recorded history. It is named after the Roman god Jupiter.[19] \\\n",
    "When viewed from Earth, Jupiter can be bright enough for its reflected \\\n",
    "light to cast visible shadows,[20] and is on average the third-brightest \\\n",
    "natural object in the night sky after the Moon and Venus.\n",
    "\"\"\"\n",
    "\n",
    "## Set the prompt\n",
    "prompt = f\"\"\"\n",
    "Summarize content you are provided with for a second-grade student.\n",
    "```{text}```\n",
    "\"\"\"\n",
    "\n",
    "## Run the prompt\n",
    "response = get_completion(prompt)\n",
    "print(response)"
   ]
  },
  {
   "cell_type": "markdown",
   "metadata": {},
   "source": [
    "###  Complex Prompt \n",
    "Try a request that has system, user and assistant messages \n",
    "System sets assistant context\n",
    "User & Assistant messages provide multi-turn conversation context\n",
    "\n",
    "Note how the assistant personality is set to \"sarcastic\" in the system context. \n",
    "Try using a different personality context. Or try a different series of input/output messages"
   ]
  },
  {
   "cell_type": "code",
   "execution_count": 17,
   "metadata": {},
   "outputs": [
    {
     "name": "stdout",
     "output_type": "stream",
     "text": [
      "Oh, just a little place called Arlington, Texas. You know, because regular stadiums were just too mainstream during the pandemic.\n"
     ]
    }
   ],
   "source": [
    "response = client.chat.completions.create(\n",
    "    model=deployment,\n",
    "    messages=[\n",
    "        {\"role\": \"system\", \"content\": \"You are a sarcastic assistant.\"},\n",
    "        {\"role\": \"user\", \"content\": \"Who won the world series in 2020?\"},\n",
    "        {\"role\": \"assistant\", \"content\": \"Who do you think won? The Los Angeles Dodgers of course.\"},\n",
    "        {\"role\": \"user\", \"content\": \"Where was it played?\"}\n",
    "    ]\n",
    ")\n",
    "print(response.choices[0].message.content)"
   ]
  },
  {
   "cell_type": "markdown",
   "metadata": {},
   "source": [
    "### Chain of Thought prompting"
   ]
  },
  {
   "cell_type": "code",
   "execution_count": 19,
   "metadata": {},
   "outputs": [
    {
     "name": "stdout",
     "output_type": "stream",
     "text": [
      "Let's break down the situation for Alice step by step:\n",
      "\n",
      "1. **Initial number of apples**: Alice has 5 apples.\n",
      "2. **Throws 3 apples**: 5 - 3 = 2 apples remaining.\n",
      "3. **Gives 2 apples to Bob**: 2 - 2 = 0 apples remaining.\n",
      "4. **Bob gives 1 apple back**: 0 + 1 = 1 apple.\n",
      "\n",
      "So, Alice has **1 apple** left.\n"
     ]
    }
   ],
   "source": [
    "text = f\"\"\"\n",
    "Lisa has 7 apples, throws 1 apple, gives 4 apples to Bart and Bart gives one back: 7 -1 = 6 6 -4 = 2 2 +1 = 3\\\n",
    "Alice has 5 apples, throws 3 apples, gives 2 to Bob and Bob gives one back, how many apples does Alice have?\n",
    "\"\"\"\n",
    "\n",
    "## Set the prompt\n",
    "prompt = f\"\"\"\n",
    "\n",
    "```{text}```\n",
    "\"\"\"\n",
    "\n",
    "## Run the prompt\n",
    "response = get_completion(prompt)\n",
    "print(response)"
   ]
  },
  {
   "cell_type": "markdown",
   "metadata": {},
   "source": [
    "### Few shots learning"
   ]
  },
  {
   "cell_type": "code",
   "execution_count": 22,
   "metadata": {},
   "outputs": [
    {
     "name": "stdout",
     "output_type": "stream",
     "text": [
      "Summary: Bob attempted to make a sandwich but found the ingredients unappealing and chose to eat a granola bar instead.\n"
     ]
    }
   ],
   "source": [
    "text = \"\"\"\n",
    "John went to the store and bought some groceries, including milk, bread, and eggs.\n",
    "Summary: John bought groceries including milk, bread, and eggs.\n",
    "\n",
    "The cat sat on the windowsill, watching the birds outside.\n",
    "Summary: The cat watched the birds from the windowsill.\n",
    "\n",
    "The team worked late into the night to finish the project before the deadline.\n",
    "Summary: The team worked late to finish the project on time.\n",
    "\n",
    "\n",
    "\"\"\"\n",
    "\n",
    "## Set the prompt for few-shot learning\n",
    "prompt = f\"\"\"\n",
    "\n",
    "Here are some examples of summaries:\n",
    "\n",
    "```{text}```\n",
    "\n",
    "Now, generate a summary for the following:\n",
    "\n",
    "```Bob tried to make a sandwich, but the bread was too dry, the cheese too cheesy, and the tomatoes too... tomatoey. He ended up eating a granola bar instead.```\n",
    "\"\"\"\n",
    "\n",
    "## Run the prompt\n",
    "response = get_completion(prompt)\n",
    "print(response)\n"
   ]
  }
 ],
 "metadata": {
  "kernelspec": {
   "display_name": "Python 3",
   "language": "python",
   "name": "python3"
  },
  "language_info": {
   "codemirror_mode": {
    "name": "ipython",
    "version": 3
   },
   "file_extension": ".py",
   "mimetype": "text/x-python",
   "name": "python",
   "nbconvert_exporter": "python",
   "pygments_lexer": "ipython3",
   "version": "3.11.9"
  },
  "orig_nbformat": 4
 },
 "nbformat": 4,
 "nbformat_minor": 2
}
